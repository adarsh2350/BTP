{
 "cells": [
  {
   "cell_type": "markdown",
   "metadata": {},
   "source": [
    "## Importing Libraries"
   ]
  },
  {
   "cell_type": "code",
   "execution_count": 27,
   "metadata": {},
   "outputs": [],
   "source": [
    "import numpy as np\n",
    "import pandas as pd\n",
    "pd.set_option('display.max_columns',None)\n",
    "import matplotlib.pyplot as plt\n",
    "import seaborn as sns\n",
    "from sklearn.model_selection import train_test_split\n",
    "from sklearn.linear_model import LinearRegression\n",
    "from sklearn.preprocessing import normalize\n",
    "import math"
   ]
  },
  {
   "cell_type": "markdown",
   "metadata": {},
   "source": [
    "## Loading data"
   ]
  },
  {
   "cell_type": "code",
   "execution_count": 28,
   "metadata": {},
   "outputs": [
    {
     "data": {
      "text/plain": [
       "(86, 14)"
      ]
     },
     "execution_count": 28,
     "metadata": {},
     "output_type": "execute_result"
    }
   ],
   "source": [
    "df = pd.read_csv('BTP.csv')\n",
    "df.shape"
   ]
  },
  {
   "cell_type": "code",
   "execution_count": 29,
   "metadata": {},
   "outputs": [
    {
     "data": {
      "text/html": [
       "<div>\n",
       "<style scoped>\n",
       "    .dataframe tbody tr th:only-of-type {\n",
       "        vertical-align: middle;\n",
       "    }\n",
       "\n",
       "    .dataframe tbody tr th {\n",
       "        vertical-align: top;\n",
       "    }\n",
       "\n",
       "    .dataframe thead th {\n",
       "        text-align: right;\n",
       "    }\n",
       "</style>\n",
       "<table border=\"1\" class=\"dataframe\">\n",
       "  <thead>\n",
       "    <tr style=\"text-align: right;\">\n",
       "      <th></th>\n",
       "      <th>Dynol</th>\n",
       "      <th>Non ionic</th>\n",
       "      <th>Pushar</th>\n",
       "      <th>Hydrogel</th>\n",
       "      <th>Silica</th>\n",
       "      <th>CTAB</th>\n",
       "      <th>Surface Tension</th>\n",
       "      <th>Contact Angle</th>\n",
       "      <th>Average viscosity</th>\n",
       "      <th>Total area</th>\n",
       "      <th>area without finger</th>\n",
       "      <th>total length</th>\n",
       "      <th>finger length</th>\n",
       "      <th>Effective area</th>\n",
       "    </tr>\n",
       "  </thead>\n",
       "  <tbody>\n",
       "    <tr>\n",
       "      <th>55</th>\n",
       "      <td>0.0375</td>\n",
       "      <td>0.2</td>\n",
       "      <td>0.025</td>\n",
       "      <td>0.003125</td>\n",
       "      <td>0.05</td>\n",
       "      <td>0.1</td>\n",
       "      <td>25.91</td>\n",
       "      <td>20.8</td>\n",
       "      <td>0.0860</td>\n",
       "      <td>66.980000</td>\n",
       "      <td>38.720000</td>\n",
       "      <td>16.853333</td>\n",
       "      <td>11.116667</td>\n",
       "      <td>1.583597</td>\n",
       "    </tr>\n",
       "    <tr>\n",
       "      <th>1</th>\n",
       "      <td>0.0375</td>\n",
       "      <td>0.2</td>\n",
       "      <td>0.025</td>\n",
       "      <td>0.003125</td>\n",
       "      <td>0.05</td>\n",
       "      <td>0.2</td>\n",
       "      <td>26.62</td>\n",
       "      <td>23.2</td>\n",
       "      <td>0.0980</td>\n",
       "      <td>52.930000</td>\n",
       "      <td>30.460000</td>\n",
       "      <td>11.280000</td>\n",
       "      <td>6.400000</td>\n",
       "      <td>1.576359</td>\n",
       "    </tr>\n",
       "    <tr>\n",
       "      <th>78</th>\n",
       "      <td>0.0750</td>\n",
       "      <td>0.0</td>\n",
       "      <td>0.050</td>\n",
       "      <td>0.006250</td>\n",
       "      <td>0.10</td>\n",
       "      <td>0.0</td>\n",
       "      <td>23.80</td>\n",
       "      <td>20.4</td>\n",
       "      <td>0.0760</td>\n",
       "      <td>71.086667</td>\n",
       "      <td>35.333333</td>\n",
       "      <td>16.583333</td>\n",
       "      <td>11.746667</td>\n",
       "      <td>1.361604</td>\n",
       "    </tr>\n",
       "    <tr>\n",
       "      <th>43</th>\n",
       "      <td>0.0750</td>\n",
       "      <td>0.4</td>\n",
       "      <td>0.000</td>\n",
       "      <td>0.000000</td>\n",
       "      <td>0.10</td>\n",
       "      <td>0.0</td>\n",
       "      <td>22.87</td>\n",
       "      <td>11.2</td>\n",
       "      <td>0.0736</td>\n",
       "      <td>72.066667</td>\n",
       "      <td>38.263333</td>\n",
       "      <td>15.866667</td>\n",
       "      <td>10.000000</td>\n",
       "      <td>1.454464</td>\n",
       "    </tr>\n",
       "    <tr>\n",
       "      <th>45</th>\n",
       "      <td>0.0000</td>\n",
       "      <td>0.4</td>\n",
       "      <td>0.050</td>\n",
       "      <td>0.000000</td>\n",
       "      <td>0.10</td>\n",
       "      <td>0.0</td>\n",
       "      <td>24.89</td>\n",
       "      <td>21.2</td>\n",
       "      <td>0.0846</td>\n",
       "      <td>77.750000</td>\n",
       "      <td>43.530000</td>\n",
       "      <td>18.580000</td>\n",
       "      <td>12.490000</td>\n",
       "      <td>1.533643</td>\n",
       "    </tr>\n",
       "  </tbody>\n",
       "</table>\n",
       "</div>"
      ],
      "text/plain": [
       "     Dynol  Non ionic  Pushar  Hydrogel  Silica  CTAB  Surface Tension  \\\n",
       "55  0.0375        0.2   0.025  0.003125    0.05   0.1            25.91   \n",
       "1   0.0375        0.2   0.025  0.003125    0.05   0.2            26.62   \n",
       "78  0.0750        0.0   0.050  0.006250    0.10   0.0            23.80   \n",
       "43  0.0750        0.4   0.000  0.000000    0.10   0.0            22.87   \n",
       "45  0.0000        0.4   0.050  0.000000    0.10   0.0            24.89   \n",
       "\n",
       "    Contact Angle  Average viscosity  Total area  area without finger  \\\n",
       "55           20.8             0.0860   66.980000            38.720000   \n",
       "1            23.2             0.0980   52.930000            30.460000   \n",
       "78           20.4             0.0760   71.086667            35.333333   \n",
       "43           11.2             0.0736   72.066667            38.263333   \n",
       "45           21.2             0.0846   77.750000            43.530000   \n",
       "\n",
       "    total length  finger length  Effective area  \n",
       "55     16.853333      11.116667        1.583597  \n",
       "1      11.280000       6.400000        1.576359  \n",
       "78     16.583333      11.746667        1.361604  \n",
       "43     15.866667      10.000000        1.454464  \n",
       "45     18.580000      12.490000        1.533643  "
      ]
     },
     "execution_count": 29,
     "metadata": {},
     "output_type": "execute_result"
    }
   ],
   "source": [
    "df.sample(5)"
   ]
  },
  {
   "cell_type": "markdown",
   "metadata": {},
   "source": [
    "Here, we have a total of <b>14 features</b> in the dataset. Which, we can divide into 3 subparts - "
   ]
  },
  {
   "cell_type": "markdown",
   "metadata": {},
   "source": [
    "Inputs (additives)\n",
    "- Dynol\n",
    "- Non Ionic\n",
    "- Pusher\n",
    "- Hydrogel\n",
    "- Silica\n",
    "- CTAB"
   ]
  },
  {
   "cell_type": "markdown",
   "metadata": {},
   "source": [
    "Measured (Properties)\n",
    "- Surface Tension\n",
    "- Contact Angle\n",
    "- Average viscosity"
   ]
  },
  {
   "cell_type": "markdown",
   "metadata": {},
   "source": [
    " Output (Target values)\n",
    "- Total area\n",
    "- area without finger\n",
    "- total length\n",
    "- finger length\n",
    "- Effective area"
   ]
  },
  {
   "cell_type": "code",
   "execution_count": 30,
   "metadata": {},
   "outputs": [],
   "source": [
    "features_input = np.array(['Dynol','Non ionic','Pushar','Hydrogel','Silica','CTAB'])\n",
    "features_measured = np.array(['Surface Tension','Contact Angle','Average viscosity'])\n",
    "features_output = np.array(['area without finger','finger length','Effective area'])"
   ]
  },
  {
   "cell_type": "markdown",
   "metadata": {},
   "source": [
    "## Feature engineering and selection"
   ]
  },
  {
   "cell_type": "markdown",
   "metadata": {},
   "source": [
    "### Checking for null values"
   ]
  },
  {
   "cell_type": "code",
   "execution_count": 31,
   "metadata": {},
   "outputs": [
    {
     "data": {
      "text/plain": [
       "Dynol                  0\n",
       "Non ionic              0\n",
       "Pushar                 0\n",
       "Hydrogel               0\n",
       "Silica                 0\n",
       "CTAB                   0\n",
       "Surface Tension        0\n",
       "Contact Angle          0\n",
       "Average viscosity      0\n",
       "Total area             0\n",
       "area without finger    0\n",
       "total length           0\n",
       "finger length          0\n",
       "Effective area         0\n",
       "dtype: int64"
      ]
     },
     "execution_count": 31,
     "metadata": {},
     "output_type": "execute_result"
    }
   ],
   "source": [
    "df.isnull().sum()"
   ]
  },
  {
   "cell_type": "markdown",
   "metadata": {},
   "source": [
    "### Checking for duplicates"
   ]
  },
  {
   "cell_type": "code",
   "execution_count": 32,
   "metadata": {},
   "outputs": [
    {
     "data": {
      "text/html": [
       "<div>\n",
       "<style scoped>\n",
       "    .dataframe tbody tr th:only-of-type {\n",
       "        vertical-align: middle;\n",
       "    }\n",
       "\n",
       "    .dataframe tbody tr th {\n",
       "        vertical-align: top;\n",
       "    }\n",
       "\n",
       "    .dataframe thead th {\n",
       "        text-align: right;\n",
       "    }\n",
       "</style>\n",
       "<table border=\"1\" class=\"dataframe\">\n",
       "  <thead>\n",
       "    <tr style=\"text-align: right;\">\n",
       "      <th></th>\n",
       "      <th>Dynol</th>\n",
       "      <th>Non ionic</th>\n",
       "      <th>Pushar</th>\n",
       "      <th>Hydrogel</th>\n",
       "      <th>Silica</th>\n",
       "      <th>CTAB</th>\n",
       "      <th>Surface Tension</th>\n",
       "      <th>Contact Angle</th>\n",
       "      <th>Average viscosity</th>\n",
       "      <th>Total area</th>\n",
       "      <th>area without finger</th>\n",
       "      <th>total length</th>\n",
       "      <th>finger length</th>\n",
       "      <th>Effective area</th>\n",
       "    </tr>\n",
       "  </thead>\n",
       "  <tbody>\n",
       "    <tr>\n",
       "      <th>20</th>\n",
       "      <td>0.0375</td>\n",
       "      <td>0.2</td>\n",
       "      <td>0.025</td>\n",
       "      <td>0.003125</td>\n",
       "      <td>0.05</td>\n",
       "      <td>0.1</td>\n",
       "      <td>25.91</td>\n",
       "      <td>20.8</td>\n",
       "      <td>0.086</td>\n",
       "      <td>66.98</td>\n",
       "      <td>38.72</td>\n",
       "      <td>16.853333</td>\n",
       "      <td>11.116667</td>\n",
       "      <td>1.583597</td>\n",
       "    </tr>\n",
       "    <tr>\n",
       "      <th>26</th>\n",
       "      <td>0.0375</td>\n",
       "      <td>0.2</td>\n",
       "      <td>0.025</td>\n",
       "      <td>0.003125</td>\n",
       "      <td>0.05</td>\n",
       "      <td>0.1</td>\n",
       "      <td>25.91</td>\n",
       "      <td>20.8</td>\n",
       "      <td>0.086</td>\n",
       "      <td>66.98</td>\n",
       "      <td>38.72</td>\n",
       "      <td>16.853333</td>\n",
       "      <td>11.116667</td>\n",
       "      <td>1.583597</td>\n",
       "    </tr>\n",
       "    <tr>\n",
       "      <th>42</th>\n",
       "      <td>0.0375</td>\n",
       "      <td>0.2</td>\n",
       "      <td>0.025</td>\n",
       "      <td>0.003125</td>\n",
       "      <td>0.05</td>\n",
       "      <td>0.1</td>\n",
       "      <td>25.91</td>\n",
       "      <td>20.8</td>\n",
       "      <td>0.086</td>\n",
       "      <td>66.98</td>\n",
       "      <td>38.72</td>\n",
       "      <td>16.853333</td>\n",
       "      <td>11.116667</td>\n",
       "      <td>1.583597</td>\n",
       "    </tr>\n",
       "    <tr>\n",
       "      <th>49</th>\n",
       "      <td>0.0375</td>\n",
       "      <td>0.2</td>\n",
       "      <td>0.025</td>\n",
       "      <td>0.003125</td>\n",
       "      <td>0.05</td>\n",
       "      <td>0.1</td>\n",
       "      <td>25.91</td>\n",
       "      <td>20.8</td>\n",
       "      <td>0.086</td>\n",
       "      <td>66.98</td>\n",
       "      <td>38.72</td>\n",
       "      <td>16.853333</td>\n",
       "      <td>11.116667</td>\n",
       "      <td>1.583597</td>\n",
       "    </tr>\n",
       "    <tr>\n",
       "      <th>51</th>\n",
       "      <td>0.0375</td>\n",
       "      <td>0.2</td>\n",
       "      <td>0.025</td>\n",
       "      <td>0.003125</td>\n",
       "      <td>0.05</td>\n",
       "      <td>0.1</td>\n",
       "      <td>25.91</td>\n",
       "      <td>20.8</td>\n",
       "      <td>0.086</td>\n",
       "      <td>66.98</td>\n",
       "      <td>38.72</td>\n",
       "      <td>16.853333</td>\n",
       "      <td>11.116667</td>\n",
       "      <td>1.583597</td>\n",
       "    </tr>\n",
       "    <tr>\n",
       "      <th>53</th>\n",
       "      <td>0.0375</td>\n",
       "      <td>0.2</td>\n",
       "      <td>0.025</td>\n",
       "      <td>0.003125</td>\n",
       "      <td>0.05</td>\n",
       "      <td>0.1</td>\n",
       "      <td>25.91</td>\n",
       "      <td>20.8</td>\n",
       "      <td>0.086</td>\n",
       "      <td>66.98</td>\n",
       "      <td>38.72</td>\n",
       "      <td>16.853333</td>\n",
       "      <td>11.116667</td>\n",
       "      <td>1.583597</td>\n",
       "    </tr>\n",
       "    <tr>\n",
       "      <th>55</th>\n",
       "      <td>0.0375</td>\n",
       "      <td>0.2</td>\n",
       "      <td>0.025</td>\n",
       "      <td>0.003125</td>\n",
       "      <td>0.05</td>\n",
       "      <td>0.1</td>\n",
       "      <td>25.91</td>\n",
       "      <td>20.8</td>\n",
       "      <td>0.086</td>\n",
       "      <td>66.98</td>\n",
       "      <td>38.72</td>\n",
       "      <td>16.853333</td>\n",
       "      <td>11.116667</td>\n",
       "      <td>1.583597</td>\n",
       "    </tr>\n",
       "    <tr>\n",
       "      <th>66</th>\n",
       "      <td>0.0375</td>\n",
       "      <td>0.2</td>\n",
       "      <td>0.025</td>\n",
       "      <td>0.003125</td>\n",
       "      <td>0.05</td>\n",
       "      <td>0.1</td>\n",
       "      <td>25.91</td>\n",
       "      <td>20.8</td>\n",
       "      <td>0.086</td>\n",
       "      <td>66.98</td>\n",
       "      <td>38.72</td>\n",
       "      <td>16.853333</td>\n",
       "      <td>11.116667</td>\n",
       "      <td>1.583597</td>\n",
       "    </tr>\n",
       "    <tr>\n",
       "      <th>67</th>\n",
       "      <td>0.0375</td>\n",
       "      <td>0.2</td>\n",
       "      <td>0.025</td>\n",
       "      <td>0.003125</td>\n",
       "      <td>0.05</td>\n",
       "      <td>0.1</td>\n",
       "      <td>25.91</td>\n",
       "      <td>20.8</td>\n",
       "      <td>0.086</td>\n",
       "      <td>66.98</td>\n",
       "      <td>38.72</td>\n",
       "      <td>16.853333</td>\n",
       "      <td>11.116667</td>\n",
       "      <td>1.583597</td>\n",
       "    </tr>\n",
       "  </tbody>\n",
       "</table>\n",
       "</div>"
      ],
      "text/plain": [
       "     Dynol  Non ionic  Pushar  Hydrogel  Silica  CTAB  Surface Tension  \\\n",
       "20  0.0375        0.2   0.025  0.003125    0.05   0.1            25.91   \n",
       "26  0.0375        0.2   0.025  0.003125    0.05   0.1            25.91   \n",
       "42  0.0375        0.2   0.025  0.003125    0.05   0.1            25.91   \n",
       "49  0.0375        0.2   0.025  0.003125    0.05   0.1            25.91   \n",
       "51  0.0375        0.2   0.025  0.003125    0.05   0.1            25.91   \n",
       "53  0.0375        0.2   0.025  0.003125    0.05   0.1            25.91   \n",
       "55  0.0375        0.2   0.025  0.003125    0.05   0.1            25.91   \n",
       "66  0.0375        0.2   0.025  0.003125    0.05   0.1            25.91   \n",
       "67  0.0375        0.2   0.025  0.003125    0.05   0.1            25.91   \n",
       "\n",
       "    Contact Angle  Average viscosity  Total area  area without finger  \\\n",
       "20           20.8              0.086       66.98                38.72   \n",
       "26           20.8              0.086       66.98                38.72   \n",
       "42           20.8              0.086       66.98                38.72   \n",
       "49           20.8              0.086       66.98                38.72   \n",
       "51           20.8              0.086       66.98                38.72   \n",
       "53           20.8              0.086       66.98                38.72   \n",
       "55           20.8              0.086       66.98                38.72   \n",
       "66           20.8              0.086       66.98                38.72   \n",
       "67           20.8              0.086       66.98                38.72   \n",
       "\n",
       "    total length  finger length  Effective area  \n",
       "20     16.853333      11.116667        1.583597  \n",
       "26     16.853333      11.116667        1.583597  \n",
       "42     16.853333      11.116667        1.583597  \n",
       "49     16.853333      11.116667        1.583597  \n",
       "51     16.853333      11.116667        1.583597  \n",
       "53     16.853333      11.116667        1.583597  \n",
       "55     16.853333      11.116667        1.583597  \n",
       "66     16.853333      11.116667        1.583597  \n",
       "67     16.853333      11.116667        1.583597  "
      ]
     },
     "execution_count": 32,
     "metadata": {},
     "output_type": "execute_result"
    }
   ],
   "source": [
    "df[df.duplicated()==True]"
   ]
  },
  {
   "cell_type": "code",
   "execution_count": 33,
   "metadata": {},
   "outputs": [],
   "source": [
    "df = df.drop_duplicates()"
   ]
  },
  {
   "cell_type": "code",
   "execution_count": 34,
   "metadata": {},
   "outputs": [
    {
     "data": {
      "text/html": [
       "<div>\n",
       "<style scoped>\n",
       "    .dataframe tbody tr th:only-of-type {\n",
       "        vertical-align: middle;\n",
       "    }\n",
       "\n",
       "    .dataframe tbody tr th {\n",
       "        vertical-align: top;\n",
       "    }\n",
       "\n",
       "    .dataframe thead th {\n",
       "        text-align: right;\n",
       "    }\n",
       "</style>\n",
       "<table border=\"1\" class=\"dataframe\">\n",
       "  <thead>\n",
       "    <tr style=\"text-align: right;\">\n",
       "      <th></th>\n",
       "      <th>Dynol</th>\n",
       "      <th>Non ionic</th>\n",
       "      <th>Pushar</th>\n",
       "      <th>Hydrogel</th>\n",
       "      <th>Silica</th>\n",
       "      <th>CTAB</th>\n",
       "      <th>Surface Tension</th>\n",
       "      <th>Contact Angle</th>\n",
       "      <th>Average viscosity</th>\n",
       "      <th>Total area</th>\n",
       "      <th>area without finger</th>\n",
       "      <th>total length</th>\n",
       "      <th>finger length</th>\n",
       "      <th>Effective area</th>\n",
       "    </tr>\n",
       "  </thead>\n",
       "  <tbody>\n",
       "    <tr>\n",
       "      <th>72</th>\n",
       "      <td>0.0375</td>\n",
       "      <td>0.0</td>\n",
       "      <td>0.025</td>\n",
       "      <td>0.003125</td>\n",
       "      <td>0.05</td>\n",
       "      <td>0.1</td>\n",
       "      <td>25.20</td>\n",
       "      <td>22.30</td>\n",
       "      <td>0.094</td>\n",
       "      <td>69.346667</td>\n",
       "      <td>30.583333</td>\n",
       "      <td>18.626667</td>\n",
       "      <td>14.006667</td>\n",
       "      <td>1.208130</td>\n",
       "    </tr>\n",
       "    <tr>\n",
       "      <th>73</th>\n",
       "      <td>0.0000</td>\n",
       "      <td>0.0</td>\n",
       "      <td>0.050</td>\n",
       "      <td>0.000000</td>\n",
       "      <td>0.00</td>\n",
       "      <td>0.2</td>\n",
       "      <td>30.64</td>\n",
       "      <td>25.96</td>\n",
       "      <td>0.098</td>\n",
       "      <td>31.267000</td>\n",
       "      <td>23.700000</td>\n",
       "      <td>6.960000</td>\n",
       "      <td>2.930000</td>\n",
       "      <td>2.076427</td>\n",
       "    </tr>\n",
       "    <tr>\n",
       "      <th>74</th>\n",
       "      <td>0.0750</td>\n",
       "      <td>0.4</td>\n",
       "      <td>0.000</td>\n",
       "      <td>0.000000</td>\n",
       "      <td>0.00</td>\n",
       "      <td>0.0</td>\n",
       "      <td>22.26</td>\n",
       "      <td>9.05</td>\n",
       "      <td>0.065</td>\n",
       "      <td>97.653333</td>\n",
       "      <td>40.766667</td>\n",
       "      <td>24.200000</td>\n",
       "      <td>18.066667</td>\n",
       "      <td>1.143596</td>\n",
       "    </tr>\n",
       "    <tr>\n",
       "      <th>75</th>\n",
       "      <td>0.0000</td>\n",
       "      <td>0.4</td>\n",
       "      <td>0.000</td>\n",
       "      <td>0.006250</td>\n",
       "      <td>0.00</td>\n",
       "      <td>0.2</td>\n",
       "      <td>25.40</td>\n",
       "      <td>22.40</td>\n",
       "      <td>0.150</td>\n",
       "      <td>49.620000</td>\n",
       "      <td>33.990000</td>\n",
       "      <td>10.760000</td>\n",
       "      <td>5.270000</td>\n",
       "      <td>1.876685</td>\n",
       "    </tr>\n",
       "    <tr>\n",
       "      <th>76</th>\n",
       "      <td>0.0000</td>\n",
       "      <td>0.0</td>\n",
       "      <td>0.050</td>\n",
       "      <td>0.006250</td>\n",
       "      <td>0.00</td>\n",
       "      <td>0.0</td>\n",
       "      <td>32.84</td>\n",
       "      <td>17.10</td>\n",
       "      <td>0.105</td>\n",
       "      <td>45.767000</td>\n",
       "      <td>28.233000</td>\n",
       "      <td>11.433000</td>\n",
       "      <td>6.307000</td>\n",
       "      <td>1.689925</td>\n",
       "    </tr>\n",
       "  </tbody>\n",
       "</table>\n",
       "</div>"
      ],
      "text/plain": [
       "     Dynol  Non ionic  Pushar  Hydrogel  Silica  CTAB  Surface Tension  \\\n",
       "72  0.0375        0.0   0.025  0.003125    0.05   0.1            25.20   \n",
       "73  0.0000        0.0   0.050  0.000000    0.00   0.2            30.64   \n",
       "74  0.0750        0.4   0.000  0.000000    0.00   0.0            22.26   \n",
       "75  0.0000        0.4   0.000  0.006250    0.00   0.2            25.40   \n",
       "76  0.0000        0.0   0.050  0.006250    0.00   0.0            32.84   \n",
       "\n",
       "    Contact Angle  Average viscosity  Total area  area without finger  \\\n",
       "72          22.30              0.094   69.346667            30.583333   \n",
       "73          25.96              0.098   31.267000            23.700000   \n",
       "74           9.05              0.065   97.653333            40.766667   \n",
       "75          22.40              0.150   49.620000            33.990000   \n",
       "76          17.10              0.105   45.767000            28.233000   \n",
       "\n",
       "    total length  finger length  Effective area  \n",
       "72     18.626667      14.006667        1.208130  \n",
       "73      6.960000       2.930000        2.076427  \n",
       "74     24.200000      18.066667        1.143596  \n",
       "75     10.760000       5.270000        1.876685  \n",
       "76     11.433000       6.307000        1.689925  "
      ]
     },
     "execution_count": 34,
     "metadata": {},
     "output_type": "execute_result"
    }
   ],
   "source": [
    "df.reset_index(drop=True).tail()"
   ]
  },
  {
   "cell_type": "markdown",
   "metadata": {},
   "source": [
    "### Correlation matrix"
   ]
  },
  {
   "cell_type": "code",
   "execution_count": 35,
   "metadata": {},
   "outputs": [
    {
     "data": {
      "text/plain": [
       "<AxesSubplot:>"
      ]
     },
     "execution_count": 35,
     "metadata": {},
     "output_type": "execute_result"
    },
    {
     "data": {
      "image/png": "[encoded data removed]",
      "text/plain": [
       "<Figure size 1440x720 with 2 Axes>"
      ]
     },
     "metadata": {
      "needs_background": "light"
     },
     "output_type": "display_data"
    }
   ],
   "source": [
    "fig, ax = plt.subplots(figsize=(20,10))        \n",
    "sns.heatmap(df.corr(),annot=True,ax=ax)"
   ]
  },
  {
   "cell_type": "markdown",
   "metadata": {},
   "source": [
    "For better accuracy, considering a threshold of <b>0.9</b>, From here we are removing two features from the dataset <b>Total area</b> and <b>total length</b> but not <b>finger length</b> as<br> our target is to minimize finger length, we can use this data in future processs."
   ]
  },
  {
   "cell_type": "code",
   "execution_count": 36,
   "metadata": {},
   "outputs": [],
   "source": [
    "df.drop(['Total area','total length'],axis=1,inplace=True)"
   ]
  },
  {
   "cell_type": "code",
   "execution_count": 37,
   "metadata": {},
   "outputs": [
    {
     "data": {
      "text/plain": [
       "(77, 12)"
      ]
     },
     "execution_count": 37,
     "metadata": {},
     "output_type": "execute_result"
    }
   ],
   "source": [
    "df.shape"
   ]
  },
  {
   "cell_type": "code",
   "execution_count": 38,
   "metadata": {},
   "outputs": [
    {
     "data": {
      "text/html": [
       "<div>\n",
       "<style scoped>\n",
       "    .dataframe tbody tr th:only-of-type {\n",
       "        vertical-align: middle;\n",
       "    }\n",
       "\n",
       "    .dataframe tbody tr th {\n",
       "        vertical-align: top;\n",
       "    }\n",
       "\n",
       "    .dataframe thead th {\n",
       "        text-align: right;\n",
       "    }\n",
       "</style>\n",
       "<table border=\"1\" class=\"dataframe\">\n",
       "  <thead>\n",
       "    <tr style=\"text-align: right;\">\n",
       "      <th></th>\n",
       "      <th>Dynol</th>\n",
       "      <th>Non ionic</th>\n",
       "      <th>Pushar</th>\n",
       "      <th>Hydrogel</th>\n",
       "      <th>Silica</th>\n",
       "      <th>CTAB</th>\n",
       "      <th>Surface Tension</th>\n",
       "      <th>Contact Angle</th>\n",
       "      <th>Average viscosity</th>\n",
       "      <th>area without finger</th>\n",
       "      <th>finger length</th>\n",
       "      <th>Effective area</th>\n",
       "    </tr>\n",
       "  </thead>\n",
       "  <tbody>\n",
       "    <tr>\n",
       "      <th>0</th>\n",
       "      <td>0.0750</td>\n",
       "      <td>0.4</td>\n",
       "      <td>0.000</td>\n",
       "      <td>0.006250</td>\n",
       "      <td>0.00</td>\n",
       "      <td>0.2</td>\n",
       "      <td>23.47</td>\n",
       "      <td>21.58</td>\n",
       "      <td>0.060</td>\n",
       "      <td>37.303333</td>\n",
       "      <td>14.046667</td>\n",
       "      <td>1.127079</td>\n",
       "    </tr>\n",
       "    <tr>\n",
       "      <th>1</th>\n",
       "      <td>0.0375</td>\n",
       "      <td>0.2</td>\n",
       "      <td>0.025</td>\n",
       "      <td>0.003125</td>\n",
       "      <td>0.05</td>\n",
       "      <td>0.2</td>\n",
       "      <td>26.62</td>\n",
       "      <td>23.20</td>\n",
       "      <td>0.098</td>\n",
       "      <td>30.460000</td>\n",
       "      <td>6.400000</td>\n",
       "      <td>1.576359</td>\n",
       "    </tr>\n",
       "    <tr>\n",
       "      <th>2</th>\n",
       "      <td>0.0375</td>\n",
       "      <td>0.2</td>\n",
       "      <td>0.025</td>\n",
       "      <td>0.003125</td>\n",
       "      <td>0.00</td>\n",
       "      <td>0.1</td>\n",
       "      <td>27.24</td>\n",
       "      <td>25.00</td>\n",
       "      <td>0.070</td>\n",
       "      <td>30.566667</td>\n",
       "      <td>9.533333</td>\n",
       "      <td>1.523732</td>\n",
       "    </tr>\n",
       "    <tr>\n",
       "      <th>3</th>\n",
       "      <td>0.0000</td>\n",
       "      <td>0.0</td>\n",
       "      <td>0.000</td>\n",
       "      <td>0.006250</td>\n",
       "      <td>0.00</td>\n",
       "      <td>0.2</td>\n",
       "      <td>30.64</td>\n",
       "      <td>25.53</td>\n",
       "      <td>0.095</td>\n",
       "      <td>23.787000</td>\n",
       "      <td>5.100000</td>\n",
       "      <td>1.769078</td>\n",
       "    </tr>\n",
       "    <tr>\n",
       "      <th>4</th>\n",
       "      <td>0.0000</td>\n",
       "      <td>0.0</td>\n",
       "      <td>0.050</td>\n",
       "      <td>0.000000</td>\n",
       "      <td>0.10</td>\n",
       "      <td>0.2</td>\n",
       "      <td>30.75</td>\n",
       "      <td>20.12</td>\n",
       "      <td>0.060</td>\n",
       "      <td>21.433000</td>\n",
       "      <td>3.277000</td>\n",
       "      <td>2.018137</td>\n",
       "    </tr>\n",
       "  </tbody>\n",
       "</table>\n",
       "</div>"
      ],
      "text/plain": [
       "    Dynol  Non ionic  Pushar  Hydrogel  Silica  CTAB  Surface Tension  \\\n",
       "0  0.0750        0.4   0.000  0.006250    0.00   0.2            23.47   \n",
       "1  0.0375        0.2   0.025  0.003125    0.05   0.2            26.62   \n",
       "2  0.0375        0.2   0.025  0.003125    0.00   0.1            27.24   \n",
       "3  0.0000        0.0   0.000  0.006250    0.00   0.2            30.64   \n",
       "4  0.0000        0.0   0.050  0.000000    0.10   0.2            30.75   \n",
       "\n",
       "   Contact Angle  Average viscosity  area without finger  finger length  \\\n",
       "0          21.58              0.060            37.303333      14.046667   \n",
       "1          23.20              0.098            30.460000       6.400000   \n",
       "2          25.00              0.070            30.566667       9.533333   \n",
       "3          25.53              0.095            23.787000       5.100000   \n",
       "4          20.12              0.060            21.433000       3.277000   \n",
       "\n",
       "   Effective area  \n",
       "0        1.127079  \n",
       "1        1.576359  \n",
       "2        1.523732  \n",
       "3        1.769078  \n",
       "4        2.018137  "
      ]
     },
     "execution_count": 38,
     "metadata": {},
     "output_type": "execute_result"
    }
   ],
   "source": [
    "df.head()"
   ]
  },
  {
   "cell_type": "markdown",
   "metadata": {},
   "source": [
    "### Statistical analysis"
   ]
  },
  {
   "cell_type": "code",
   "execution_count": 39,
   "metadata": {},
   "outputs": [
    {
     "name": "stdout",
     "output_type": "stream",
     "text": [
      "<class 'pandas.core.frame.DataFrame'>\n",
      "Int64Index: 77 entries, 0 to 85\n",
      "Data columns (total 12 columns):\n",
      " #   Column               Non-Null Count  Dtype  \n",
      "---  ------               --------------  -----  \n",
      " 0   Dynol                77 non-null     float64\n",
      " 1   Non ionic            77 non-null     float64\n",
      " 2   Pushar               77 non-null     float64\n",
      " 3   Hydrogel             77 non-null     float64\n",
      " 4   Silica               77 non-null     float64\n",
      " 5   CTAB                 77 non-null     float64\n",
      " 6   Surface Tension      77 non-null     float64\n",
      " 7   Contact Angle        77 non-null     float64\n",
      " 8   Average viscosity    77 non-null     float64\n",
      " 9   area without finger  77 non-null     float64\n",
      " 10  finger length        77 non-null     float64\n",
      " 11  Effective area       77 non-null     float64\n",
      "dtypes: float64(12)\n",
      "memory usage: 7.8 KB\n"
     ]
    }
   ],
   "source": [
    "df.info()"
   ]
  },
  {
   "cell_type": "code",
   "execution_count": 40,
   "metadata": {},
   "outputs": [
    {
     "data": {
      "text/html": [
       "<div>\n",
       "<style scoped>\n",
       "    .dataframe tbody tr th:only-of-type {\n",
       "        vertical-align: middle;\n",
       "    }\n",
       "\n",
       "    .dataframe tbody tr th {\n",
       "        vertical-align: top;\n",
       "    }\n",
       "\n",
       "    .dataframe thead th {\n",
       "        text-align: right;\n",
       "    }\n",
       "</style>\n",
       "<table border=\"1\" class=\"dataframe\">\n",
       "  <thead>\n",
       "    <tr style=\"text-align: right;\">\n",
       "      <th></th>\n",
       "      <th>Dynol</th>\n",
       "      <th>Non ionic</th>\n",
       "      <th>Pushar</th>\n",
       "      <th>Hydrogel</th>\n",
       "      <th>Silica</th>\n",
       "      <th>CTAB</th>\n",
       "      <th>Surface Tension</th>\n",
       "      <th>Contact Angle</th>\n",
       "      <th>Average viscosity</th>\n",
       "      <th>area without finger</th>\n",
       "      <th>finger length</th>\n",
       "      <th>Effective area</th>\n",
       "    </tr>\n",
       "  </thead>\n",
       "  <tbody>\n",
       "    <tr>\n",
       "      <th>count</th>\n",
       "      <td>77.000000</td>\n",
       "      <td>77.000000</td>\n",
       "      <td>77.000000</td>\n",
       "      <td>77.000000</td>\n",
       "      <td>77.000000</td>\n",
       "      <td>77.000000</td>\n",
       "      <td>77.000000</td>\n",
       "      <td>77.000000</td>\n",
       "      <td>77.000000</td>\n",
       "      <td>77.000000</td>\n",
       "      <td>77.000000</td>\n",
       "      <td>77.000000</td>\n",
       "    </tr>\n",
       "    <tr>\n",
       "      <th>mean</th>\n",
       "      <td>0.037500</td>\n",
       "      <td>0.200000</td>\n",
       "      <td>0.025000</td>\n",
       "      <td>0.003125</td>\n",
       "      <td>0.050000</td>\n",
       "      <td>0.100000</td>\n",
       "      <td>26.770649</td>\n",
       "      <td>19.275779</td>\n",
       "      <td>0.083677</td>\n",
       "      <td>33.549513</td>\n",
       "      <td>10.142403</td>\n",
       "      <td>1.512754</td>\n",
       "    </tr>\n",
       "    <tr>\n",
       "      <th>std</th>\n",
       "      <td>0.034946</td>\n",
       "      <td>0.186378</td>\n",
       "      <td>0.023297</td>\n",
       "      <td>0.002912</td>\n",
       "      <td>0.046595</td>\n",
       "      <td>0.093189</td>\n",
       "      <td>3.204398</td>\n",
       "      <td>4.997102</td>\n",
       "      <td>0.018805</td>\n",
       "      <td>7.087782</td>\n",
       "      <td>4.633655</td>\n",
       "      <td>0.272028</td>\n",
       "    </tr>\n",
       "    <tr>\n",
       "      <th>min</th>\n",
       "      <td>0.000000</td>\n",
       "      <td>0.000000</td>\n",
       "      <td>0.000000</td>\n",
       "      <td>0.000000</td>\n",
       "      <td>0.000000</td>\n",
       "      <td>0.000000</td>\n",
       "      <td>18.700000</td>\n",
       "      <td>9.050000</td>\n",
       "      <td>0.050000</td>\n",
       "      <td>18.750000</td>\n",
       "      <td>2.370000</td>\n",
       "      <td>0.807770</td>\n",
       "    </tr>\n",
       "    <tr>\n",
       "      <th>25%</th>\n",
       "      <td>0.000000</td>\n",
       "      <td>0.000000</td>\n",
       "      <td>0.000000</td>\n",
       "      <td>0.000000</td>\n",
       "      <td>0.000000</td>\n",
       "      <td>0.000000</td>\n",
       "      <td>24.080000</td>\n",
       "      <td>16.360000</td>\n",
       "      <td>0.068000</td>\n",
       "      <td>28.400000</td>\n",
       "      <td>6.480000</td>\n",
       "      <td>1.326376</td>\n",
       "    </tr>\n",
       "    <tr>\n",
       "      <th>50%</th>\n",
       "      <td>0.037500</td>\n",
       "      <td>0.200000</td>\n",
       "      <td>0.025000</td>\n",
       "      <td>0.003125</td>\n",
       "      <td>0.050000</td>\n",
       "      <td>0.100000</td>\n",
       "      <td>25.910000</td>\n",
       "      <td>20.120000</td>\n",
       "      <td>0.084600</td>\n",
       "      <td>32.410000</td>\n",
       "      <td>9.993333</td>\n",
       "      <td>1.501660</td>\n",
       "    </tr>\n",
       "    <tr>\n",
       "      <th>75%</th>\n",
       "      <td>0.075000</td>\n",
       "      <td>0.400000</td>\n",
       "      <td>0.050000</td>\n",
       "      <td>0.006250</td>\n",
       "      <td>0.100000</td>\n",
       "      <td>0.200000</td>\n",
       "      <td>29.400000</td>\n",
       "      <td>22.400000</td>\n",
       "      <td>0.095000</td>\n",
       "      <td>38.166667</td>\n",
       "      <td>12.490000</td>\n",
       "      <td>1.651147</td>\n",
       "    </tr>\n",
       "    <tr>\n",
       "      <th>max</th>\n",
       "      <td>0.075000</td>\n",
       "      <td>0.400000</td>\n",
       "      <td>0.050000</td>\n",
       "      <td>0.006250</td>\n",
       "      <td>0.100000</td>\n",
       "      <td>0.200000</td>\n",
       "      <td>33.000000</td>\n",
       "      <td>35.000000</td>\n",
       "      <td>0.150000</td>\n",
       "      <td>53.600000</td>\n",
       "      <td>26.000000</td>\n",
       "      <td>2.123534</td>\n",
       "    </tr>\n",
       "  </tbody>\n",
       "</table>\n",
       "</div>"
      ],
      "text/plain": [
       "           Dynol  Non ionic     Pushar   Hydrogel     Silica       CTAB  \\\n",
       "count  77.000000  77.000000  77.000000  77.000000  77.000000  77.000000   \n",
       "mean    0.037500   0.200000   0.025000   0.003125   0.050000   0.100000   \n",
       "std     0.034946   0.186378   0.023297   0.002912   0.046595   0.093189   \n",
       "min     0.000000   0.000000   0.000000   0.000000   0.000000   0.000000   \n",
       "25%     0.000000   0.000000   0.000000   0.000000   0.000000   0.000000   \n",
       "50%     0.037500   0.200000   0.025000   0.003125   0.050000   0.100000   \n",
       "75%     0.075000   0.400000   0.050000   0.006250   0.100000   0.200000   \n",
       "max     0.075000   0.400000   0.050000   0.006250   0.100000   0.200000   \n",
       "\n",
       "       Surface Tension  Contact Angle  Average viscosity  area without finger  \\\n",
       "count        77.000000      77.000000          77.000000            77.000000   \n",
       "mean         26.770649      19.275779           0.083677            33.549513   \n",
       "std           3.204398       4.997102           0.018805             7.087782   \n",
       "min          18.700000       9.050000           0.050000            18.750000   \n",
       "25%          24.080000      16.360000           0.068000            28.400000   \n",
       "50%          25.910000      20.120000           0.084600            32.410000   \n",
       "75%          29.400000      22.400000           0.095000            38.166667   \n",
       "max          33.000000      35.000000           0.150000            53.600000   \n",
       "\n",
       "       finger length  Effective area  \n",
       "count      77.000000       77.000000  \n",
       "mean       10.142403        1.512754  \n",
       "std         4.633655        0.272028  \n",
       "min         2.370000        0.807770  \n",
       "25%         6.480000        1.326376  \n",
       "50%         9.993333        1.501660  \n",
       "75%        12.490000        1.651147  \n",
       "max        26.000000        2.123534  "
      ]
     },
     "execution_count": 40,
     "metadata": {},
     "output_type": "execute_result"
    }
   ],
   "source": [
    "df.describe()"
   ]
  },
  {
   "cell_type": "markdown",
   "metadata": {},
   "source": [
    "### Checking for outliers"
   ]
  },
  {
   "cell_type": "markdown",
   "metadata": {},
   "source": [
    "Here, we will check for outliers for measured and output features."
   ]
  },
  {
   "cell_type": "code",
   "execution_count": 41,
   "metadata": {},
   "outputs": [
    {
     "data": {
      "image/png": "[encoded data removed]",
      "text/plain": [
       "<Figure size 432x288 with 1 Axes>"
      ]
     },
     "metadata": {
      "needs_background": "light"
     },
     "output_type": "display_data"
    },
    {
     "data": {
      "image/png": "[encoded data removed]",
      "text/plain": [
       "<Figure size 432x288 with 1 Axes>"
      ]
     },
     "metadata": {
      "needs_background": "light"
     },
     "output_type": "display_data"
    },
    {
     "data": {
      "image/png": "[encoded data removed]",
      "text/plain": [
       "<Figure size 432x288 with 1 Axes>"
      ]
     },
     "metadata": {
      "needs_background": "light"
     },
     "output_type": "display_data"
    }
   ],
   "source": [
    "for features in features_measured:\n",
    "    sns.boxplot(df[features])\n",
    "    sns.despine()\n",
    "    plt.title(features)\n",
    "    plt.show()"
   ]
  },
  {
   "cell_type": "code",
   "execution_count": 42,
   "metadata": {},
   "outputs": [
    {
     "data": {
      "image/png": "[encoded data removed]",
      "text/plain": [
       "<Figure size 432x288 with 1 Axes>"
      ]
     },
     "metadata": {
      "needs_background": "light"
     },
     "output_type": "display_data"
    },
    {
     "data": {
      "image/png": "[encoded data removed]",
      "text/plain": [
       "<Figure size 432x288 with 1 Axes>"
      ]
     },
     "metadata": {
      "needs_background": "light"
     },
     "output_type": "display_data"
    },
    {
     "data": {
      "image/png": "[encoded data removed]",
      "text/plain": [
       "<Figure size 432x288 with 1 Axes>"
      ]
     },
     "metadata": {
      "needs_background": "light"
     },
     "output_type": "display_data"
    }
   ],
   "source": [
    "for features in features_output:\n",
    "    sns.boxplot(df[features])\n",
    "    sns.despine()\n",
    "    plt.title(features)\n",
    "    plt.show()"
   ]
  },
  {
   "cell_type": "markdown",
   "metadata": {},
   "source": [
    "From the above box plots, it is clear that we have outliers in multiple features, which we have to drop in order to get better results."
   ]
  },
  {
   "cell_type": "markdown",
   "metadata": {},
   "source": [
    "### Dropping outliers"
   ]
  },
  {
   "cell_type": "code",
   "execution_count": 43,
   "metadata": {},
   "outputs": [],
   "source": [
    "for features in features_measured:\n",
    "    Q1 = df[features].quantile(0.25)\n",
    "    Q3 = df[features].quantile(0.75)\n",
    "    IQR = Q3 - Q1\n",
    "    lower = Q1 - 1.5*IQR\n",
    "    upper = Q3 + 1.5*IQR\n",
    "\n",
    "    indu = df[(df[features]>upper)].index\n",
    "    indl = df[(df[features]<lower)].index\n",
    "\n",
    "    df = df.drop(indu,axis=0)\n",
    "    df = df.drop(indl,axis=0)"
   ]
  },
  {
   "cell_type": "code",
   "execution_count": 44,
   "metadata": {},
   "outputs": [],
   "source": [
    "for features in features_output:\n",
    "    Q1 = df[features].quantile(0.25)\n",
    "    Q3 = df[features].quantile(0.75)\n",
    "    IQR = Q3 - Q1\n",
    "    lower = Q1 - 1.5*IQR\n",
    "    upper = Q3 + 1.5*IQR\n",
    "\n",
    "    indu = df[(df[features]>upper)].index\n",
    "    indl = df[(df[features]<lower)].index\n",
    "\n",
    "    df = df.drop(indu,axis=0)\n",
    "    df = df.drop(indl,axis=0)"
   ]
  },
  {
   "cell_type": "code",
   "execution_count": 45,
   "metadata": {},
   "outputs": [
    {
     "data": {
      "image/png": "[encoded data removed]",
      "text/plain": [
       "<Figure size 432x288 with 1 Axes>"
      ]
     },
     "metadata": {
      "needs_background": "light"
     },
     "output_type": "display_data"
    },
    {
     "data": {
      "image/png": "[encoded data removed]",
      "text/plain": [
       "<Figure size 432x288 with 1 Axes>"
      ]
     },
     "metadata": {
      "needs_background": "light"
     },
     "output_type": "display_data"
    },
    {
     "data": {
      "image/png": "[encoded data removed]",
      "text/plain": [
       "<Figure size 432x288 with 1 Axes>"
      ]
     },
     "metadata": {
      "needs_background": "light"
     },
     "output_type": "display_data"
    }
   ],
   "source": [
    "for features in features_measured:\n",
    "    sns.boxplot(df[features])\n",
    "    sns.despine()\n",
    "    plt.title(features)\n",
    "    plt.show()"
   ]
  },
  {
   "cell_type": "code",
   "execution_count": 46,
   "metadata": {},
   "outputs": [
    {
     "data": {
      "image/png": "[encoded data removed]",
      "text/plain": [
       "<Figure size 432x288 with 1 Axes>"
      ]
     },
     "metadata": {
      "needs_background": "light"
     },
     "output_type": "display_data"
    },
    {
     "data": {
      "image/png": "[encoded data removed]",
      "text/plain": [
       "<Figure size 432x288 with 1 Axes>"
      ]
     },
     "metadata": {
      "needs_background": "light"
     },
     "output_type": "display_data"
    },
    {
     "data": {
      "image/png": "[encoded data removed]",
      "text/plain": [
       "<Figure size 432x288 with 1 Axes>"
      ]
     },
     "metadata": {
      "needs_background": "light"
     },
     "output_type": "display_data"
    }
   ],
   "source": [
    "for features in features_output:\n",
    "    sns.boxplot(df[features])\n",
    "    sns.despine()\n",
    "    plt.title(features)\n",
    "    plt.show()"
   ]
  },
  {
   "cell_type": "code",
   "execution_count": 47,
   "metadata": {},
   "outputs": [
    {
     "data": {
      "text/plain": [
       "(71, 12)"
      ]
     },
     "execution_count": 47,
     "metadata": {},
     "output_type": "execute_result"
    }
   ],
   "source": [
    "df.shape"
   ]
  },
  {
   "cell_type": "code",
   "execution_count": 48,
   "metadata": {},
   "outputs": [
    {
     "data": {
      "text/html": [
       "<div>\n",
       "<style scoped>\n",
       "    .dataframe tbody tr th:only-of-type {\n",
       "        vertical-align: middle;\n",
       "    }\n",
       "\n",
       "    .dataframe tbody tr th {\n",
       "        vertical-align: top;\n",
       "    }\n",
       "\n",
       "    .dataframe thead th {\n",
       "        text-align: right;\n",
       "    }\n",
       "</style>\n",
       "<table border=\"1\" class=\"dataframe\">\n",
       "  <thead>\n",
       "    <tr style=\"text-align: right;\">\n",
       "      <th></th>\n",
       "      <th>Dynol</th>\n",
       "      <th>Non ionic</th>\n",
       "      <th>Pushar</th>\n",
       "      <th>Hydrogel</th>\n",
       "      <th>Silica</th>\n",
       "      <th>CTAB</th>\n",
       "      <th>Surface Tension</th>\n",
       "      <th>Contact Angle</th>\n",
       "      <th>Average viscosity</th>\n",
       "      <th>area without finger</th>\n",
       "      <th>finger length</th>\n",
       "      <th>Effective area</th>\n",
       "    </tr>\n",
       "  </thead>\n",
       "  <tbody>\n",
       "    <tr>\n",
       "      <th>66</th>\n",
       "      <td>0.0750</td>\n",
       "      <td>0.0</td>\n",
       "      <td>0.000</td>\n",
       "      <td>0.006250</td>\n",
       "      <td>0.10</td>\n",
       "      <td>0.0</td>\n",
       "      <td>24.10</td>\n",
       "      <td>21.00</td>\n",
       "      <td>0.100</td>\n",
       "      <td>34.166667</td>\n",
       "      <td>9.861667</td>\n",
       "      <td>1.548747</td>\n",
       "    </tr>\n",
       "    <tr>\n",
       "      <th>67</th>\n",
       "      <td>0.0375</td>\n",
       "      <td>0.0</td>\n",
       "      <td>0.025</td>\n",
       "      <td>0.003125</td>\n",
       "      <td>0.05</td>\n",
       "      <td>0.1</td>\n",
       "      <td>25.20</td>\n",
       "      <td>22.30</td>\n",
       "      <td>0.094</td>\n",
       "      <td>30.583333</td>\n",
       "      <td>14.006667</td>\n",
       "      <td>1.208130</td>\n",
       "    </tr>\n",
       "    <tr>\n",
       "      <th>68</th>\n",
       "      <td>0.0000</td>\n",
       "      <td>0.0</td>\n",
       "      <td>0.050</td>\n",
       "      <td>0.000000</td>\n",
       "      <td>0.00</td>\n",
       "      <td>0.2</td>\n",
       "      <td>30.64</td>\n",
       "      <td>25.96</td>\n",
       "      <td>0.098</td>\n",
       "      <td>23.700000</td>\n",
       "      <td>2.930000</td>\n",
       "      <td>2.076427</td>\n",
       "    </tr>\n",
       "    <tr>\n",
       "      <th>69</th>\n",
       "      <td>0.0750</td>\n",
       "      <td>0.4</td>\n",
       "      <td>0.000</td>\n",
       "      <td>0.000000</td>\n",
       "      <td>0.00</td>\n",
       "      <td>0.0</td>\n",
       "      <td>22.26</td>\n",
       "      <td>9.05</td>\n",
       "      <td>0.065</td>\n",
       "      <td>40.766667</td>\n",
       "      <td>18.066667</td>\n",
       "      <td>1.143596</td>\n",
       "    </tr>\n",
       "    <tr>\n",
       "      <th>70</th>\n",
       "      <td>0.0000</td>\n",
       "      <td>0.0</td>\n",
       "      <td>0.050</td>\n",
       "      <td>0.006250</td>\n",
       "      <td>0.00</td>\n",
       "      <td>0.0</td>\n",
       "      <td>32.84</td>\n",
       "      <td>17.10</td>\n",
       "      <td>0.105</td>\n",
       "      <td>28.233000</td>\n",
       "      <td>6.307000</td>\n",
       "      <td>1.689925</td>\n",
       "    </tr>\n",
       "  </tbody>\n",
       "</table>\n",
       "</div>"
      ],
      "text/plain": [
       "     Dynol  Non ionic  Pushar  Hydrogel  Silica  CTAB  Surface Tension  \\\n",
       "66  0.0750        0.0   0.000  0.006250    0.10   0.0            24.10   \n",
       "67  0.0375        0.0   0.025  0.003125    0.05   0.1            25.20   \n",
       "68  0.0000        0.0   0.050  0.000000    0.00   0.2            30.64   \n",
       "69  0.0750        0.4   0.000  0.000000    0.00   0.0            22.26   \n",
       "70  0.0000        0.0   0.050  0.006250    0.00   0.0            32.84   \n",
       "\n",
       "    Contact Angle  Average viscosity  area without finger  finger length  \\\n",
       "66          21.00              0.100            34.166667       9.861667   \n",
       "67          22.30              0.094            30.583333      14.006667   \n",
       "68          25.96              0.098            23.700000       2.930000   \n",
       "69           9.05              0.065            40.766667      18.066667   \n",
       "70          17.10              0.105            28.233000       6.307000   \n",
       "\n",
       "    Effective area  \n",
       "66        1.548747  \n",
       "67        1.208130  \n",
       "68        2.076427  \n",
       "69        1.143596  \n",
       "70        1.689925  "
      ]
     },
     "execution_count": 48,
     "metadata": {},
     "output_type": "execute_result"
    }
   ],
   "source": [
    "df.reset_index(drop=True).tail()"
   ]
  },
  {
   "cell_type": "code",
   "execution_count": 49,
   "metadata": {},
   "outputs": [
    {
     "data": {
      "text/html": [
       "<div>\n",
       "<style scoped>\n",
       "    .dataframe tbody tr th:only-of-type {\n",
       "        vertical-align: middle;\n",
       "    }\n",
       "\n",
       "    .dataframe tbody tr th {\n",
       "        vertical-align: top;\n",
       "    }\n",
       "\n",
       "    .dataframe thead th {\n",
       "        text-align: right;\n",
       "    }\n",
       "</style>\n",
       "<table border=\"1\" class=\"dataframe\">\n",
       "  <thead>\n",
       "    <tr style=\"text-align: right;\">\n",
       "      <th></th>\n",
       "      <th>Dynol</th>\n",
       "      <th>Non ionic</th>\n",
       "      <th>Pushar</th>\n",
       "      <th>Hydrogel</th>\n",
       "      <th>Silica</th>\n",
       "      <th>CTAB</th>\n",
       "      <th>Surface Tension</th>\n",
       "      <th>Contact Angle</th>\n",
       "      <th>Average viscosity</th>\n",
       "      <th>area without finger</th>\n",
       "      <th>finger length</th>\n",
       "      <th>Effective area</th>\n",
       "    </tr>\n",
       "  </thead>\n",
       "  <tbody>\n",
       "    <tr>\n",
       "      <th>29</th>\n",
       "      <td>0.075</td>\n",
       "      <td>0.0</td>\n",
       "      <td>0.00</td>\n",
       "      <td>0.00000</td>\n",
       "      <td>0.1</td>\n",
       "      <td>0.2</td>\n",
       "      <td>29.71</td>\n",
       "      <td>26.500</td>\n",
       "      <td>0.0600</td>\n",
       "      <td>29.500</td>\n",
       "      <td>11.250</td>\n",
       "      <td>1.251931</td>\n",
       "    </tr>\n",
       "    <tr>\n",
       "      <th>57</th>\n",
       "      <td>0.075</td>\n",
       "      <td>0.4</td>\n",
       "      <td>0.00</td>\n",
       "      <td>0.00625</td>\n",
       "      <td>0.1</td>\n",
       "      <td>0.0</td>\n",
       "      <td>24.58</td>\n",
       "      <td>9.635</td>\n",
       "      <td>0.0500</td>\n",
       "      <td>46.800</td>\n",
       "      <td>14.000</td>\n",
       "      <td>1.328535</td>\n",
       "    </tr>\n",
       "    <tr>\n",
       "      <th>39</th>\n",
       "      <td>0.000</td>\n",
       "      <td>0.4</td>\n",
       "      <td>0.05</td>\n",
       "      <td>0.00625</td>\n",
       "      <td>0.1</td>\n",
       "      <td>0.0</td>\n",
       "      <td>24.70</td>\n",
       "      <td>14.000</td>\n",
       "      <td>0.0650</td>\n",
       "      <td>42.400</td>\n",
       "      <td>14.150</td>\n",
       "      <td>1.405753</td>\n",
       "    </tr>\n",
       "    <tr>\n",
       "      <th>7</th>\n",
       "      <td>0.075</td>\n",
       "      <td>0.4</td>\n",
       "      <td>0.05</td>\n",
       "      <td>0.00625</td>\n",
       "      <td>0.0</td>\n",
       "      <td>0.0</td>\n",
       "      <td>22.87</td>\n",
       "      <td>20.300</td>\n",
       "      <td>0.0565</td>\n",
       "      <td>46.000</td>\n",
       "      <td>11.800</td>\n",
       "      <td>1.482496</td>\n",
       "    </tr>\n",
       "    <tr>\n",
       "      <th>4</th>\n",
       "      <td>0.000</td>\n",
       "      <td>0.0</td>\n",
       "      <td>0.05</td>\n",
       "      <td>0.00000</td>\n",
       "      <td>0.1</td>\n",
       "      <td>0.2</td>\n",
       "      <td>30.75</td>\n",
       "      <td>20.120</td>\n",
       "      <td>0.0600</td>\n",
       "      <td>21.433</td>\n",
       "      <td>3.277</td>\n",
       "      <td>2.018137</td>\n",
       "    </tr>\n",
       "  </tbody>\n",
       "</table>\n",
       "</div>"
      ],
      "text/plain": [
       "    Dynol  Non ionic  Pushar  Hydrogel  Silica  CTAB  Surface Tension  \\\n",
       "29  0.075        0.0    0.00   0.00000     0.1   0.2            29.71   \n",
       "57  0.075        0.4    0.00   0.00625     0.1   0.0            24.58   \n",
       "39  0.000        0.4    0.05   0.00625     0.1   0.0            24.70   \n",
       "7   0.075        0.4    0.05   0.00625     0.0   0.0            22.87   \n",
       "4   0.000        0.0    0.05   0.00000     0.1   0.2            30.75   \n",
       "\n",
       "    Contact Angle  Average viscosity  area without finger  finger length  \\\n",
       "29         26.500             0.0600               29.500         11.250   \n",
       "57          9.635             0.0500               46.800         14.000   \n",
       "39         14.000             0.0650               42.400         14.150   \n",
       "7          20.300             0.0565               46.000         11.800   \n",
       "4          20.120             0.0600               21.433          3.277   \n",
       "\n",
       "    Effective area  \n",
       "29        1.251931  \n",
       "57        1.328535  \n",
       "39        1.405753  \n",
       "7         1.482496  \n",
       "4         2.018137  "
      ]
     },
     "execution_count": 49,
     "metadata": {},
     "output_type": "execute_result"
    }
   ],
   "source": [
    "df.sample(5)"
   ]
  },
  {
   "cell_type": "code",
   "execution_count": 50,
   "metadata": {},
   "outputs": [],
   "source": [
    "df.to_csv('data.csv', index=False)"
   ]
  }
 ],
 "metadata": {
  "kernelspec": {
   "display_name": "Python 3",
   "language": "python",
   "name": "python3"
  },
  "language_info": {
   "codemirror_mode": {
    "name": "ipython",
    "version": 3
   },
   "file_extension": ".py",
   "mimetype": "text/x-python",
   "name": "python",
   "nbconvert_exporter": "python",
   "pygments_lexer": "ipython3",
   "version": "3.10.6"
  },
  "orig_nbformat": 4
 },
 "nbformat": 4,
 "nbformat_minor": 2
}
